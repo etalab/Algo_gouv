{
 "cells": [
  {
   "cell_type": "code",
   "execution_count": 699,
   "metadata": {
    "collapsed": false
   },
   "outputs": [],
   "source": [
    "import os\n",
    "import numpy as np\n",
    "import pandas as pd\n",
    "from bs4 import BeautifulSoup\n",
    "from urllib import request, response, parse\n",
    "import re\n",
    "import pickle\n",
    "import html2text\n",
    "import stop_words\n",
    "from itertools import islice\n",
    "from matplotlib import pyplot as plt\n",
    "import seaborn as sns\n",
    "sns.set(style=\"white\")\n",
    "%matplotlib inline\n",
    "path_file = '/Users/gowitheflow/Documents/ETALAB/algo_gouv/'"
   ]
  },
  {
   "cell_type": "code",
   "execution_count": 243,
   "metadata": {
    "collapsed": true
   },
   "outputs": [],
   "source": [
    "from sklearn.feature_extraction.text import CountVectorizer, TfidfTransformer, TfidfVectorizer"
   ]
  },
  {
   "cell_type": "code",
   "execution_count": 2,
   "metadata": {
    "collapsed": false
   },
   "outputs": [],
   "source": [
    "import random\n",
    "import time\n",
    "from IPython.display import clear_output"
   ]
  },
  {
   "cell_type": "raw",
   "metadata": {
    "collapsed": false
   },
   "source": [
    "resultObj = open('QUERY_RESULTS_google','rb')\n",
    "RESULT_DICT = pickle.load(resultObj)"
   ]
  },
  {
   "cell_type": "code",
   "execution_count": 134,
   "metadata": {
    "collapsed": false
   },
   "outputs": [
    {
     "data": {
      "text/plain": [
       "'5687c3e487e63a41a821'"
      ]
     },
     "execution_count": 134,
     "metadata": {},
     "output_type": "execute_result"
    }
   ],
   "source": [
    "import secrets\n",
    "secrets.token_hex(10)"
   ]
  },
  {
   "cell_type": "markdown",
   "metadata": {},
   "source": [
    "## Import google links"
   ]
  },
  {
   "cell_type": "code",
   "execution_count": 156,
   "metadata": {
    "collapsed": false
   },
   "outputs": [
    {
     "data": {
      "text/html": [
       "<div>\n",
       "<table border=\"1\" class=\"dataframe\">\n",
       "  <thead>\n",
       "    <tr style=\"text-align: right;\">\n",
       "      <th></th>\n",
       "      <th>query</th>\n",
       "      <th>link_title</th>\n",
       "      <th>link</th>\n",
       "      <th>n_pages</th>\n",
       "      <th>type_of_doc</th>\n",
       "      <th>circulaire</th>\n",
       "      <th>affich</th>\n",
       "      <th>autre_type</th>\n",
       "      <th>type_affich</th>\n",
       "      <th>type_affichTexte</th>\n",
       "      <th>scraped</th>\n",
       "      <th>link_id</th>\n",
       "    </tr>\n",
       "  </thead>\n",
       "  <tbody>\n",
       "    <tr>\n",
       "      <th>0</th>\n",
       "      <td>algorithmes%2Bautomatique+site:%22legifrance.g...</td>\n",
       "      <td>Cour de cassation, civile, Chambre civile 1, 1...</td>\n",
       "      <td>https://www.legifrance.gouv.fr/affichJuriJudi....</td>\n",
       "      <td>11</td>\n",
       "      <td>affichJuriJudi.do?oldAction=rechJuriJudi&amp;idTex...</td>\n",
       "      <td>0</td>\n",
       "      <td>1</td>\n",
       "      <td>0</td>\n",
       "      <td>affichJuriJudi</td>\n",
       "      <td>NaN</td>\n",
       "      <td>False</td>\n",
       "      <td>9fc4b03b89b16fb0</td>\n",
       "    </tr>\n",
       "    <tr>\n",
       "      <th>1</th>\n",
       "      <td>algorithmes%2Bautomatique+site:%22legifrance.g...</td>\n",
       "      <td>Arrêté du 17 octobre 2012 modifiant la méthode...</td>\n",
       "      <td>https://www.legifrance.gouv.fr/affichTexte.do?...</td>\n",
       "      <td>11</td>\n",
       "      <td>affichTexte.do?cidTexte=JORFTEXT000026601023&amp;c...</td>\n",
       "      <td>0</td>\n",
       "      <td>1</td>\n",
       "      <td>0</td>\n",
       "      <td>affichTexte</td>\n",
       "      <td>Arrêté</td>\n",
       "      <td>False</td>\n",
       "      <td>01680d71f4c7703b</td>\n",
       "    </tr>\n",
       "  </tbody>\n",
       "</table>\n",
       "</div>"
      ],
      "text/plain": [
       "                                               query  \\\n",
       "0  algorithmes%2Bautomatique+site:%22legifrance.g...   \n",
       "1  algorithmes%2Bautomatique+site:%22legifrance.g...   \n",
       "\n",
       "                                          link_title  \\\n",
       "0  Cour de cassation, civile, Chambre civile 1, 1...   \n",
       "1  Arrêté du 17 octobre 2012 modifiant la méthode...   \n",
       "\n",
       "                                                link  n_pages  \\\n",
       "0  https://www.legifrance.gouv.fr/affichJuriJudi....       11   \n",
       "1  https://www.legifrance.gouv.fr/affichTexte.do?...       11   \n",
       "\n",
       "                                         type_of_doc  circulaire  affich  \\\n",
       "0  affichJuriJudi.do?oldAction=rechJuriJudi&idTex...           0       1   \n",
       "1  affichTexte.do?cidTexte=JORFTEXT000026601023&c...           0       1   \n",
       "\n",
       "   autre_type     type_affich type_affichTexte scraped           link_id  \n",
       "0           0  affichJuriJudi              NaN   False  9fc4b03b89b16fb0  \n",
       "1           0     affichTexte           Arrêté   False  01680d71f4c7703b  "
      ]
     },
     "execution_count": 156,
     "metadata": {},
     "output_type": "execute_result"
    }
   ],
   "source": [
    "google_links = pd.read_csv('QUERY_RESULTS_google.csv', index_col=False).drop('Unnamed: 0', axis=1)\n",
    "google_links.head(2)"
   ]
  },
  {
   "cell_type": "raw",
   "metadata": {
    "collapsed": false
   },
   "source": [
    "# Create a unique link_id for each links\n",
    "google_links['link_id'] = [x + secrets.token_hex(8) for x in [\"\"] * len(google_links)]\n",
    "google_links.to_csv('QUERY_RESULTS_google.csv')"
   ]
  },
  {
   "cell_type": "markdown",
   "metadata": {},
   "source": [
    "## Type de document ?\n",
    "\n",
    "Commençons par distinguer les différents types de documents juridiques nous trouvons dans la base."
   ]
  },
  {
   "cell_type": "code",
   "execution_count": 7,
   "metadata": {
    "collapsed": false,
    "scrolled": true
   },
   "outputs": [],
   "source": [
    "# On enlève les https et les http\n",
    "links_clean_http = google_links.link.str.replace(\n",
    "    'https://www.legifrance.gouv.fr/', '').str.replace(\n",
    "    'http://www.legifrance.gouv.fr/', '').str.replace(\n",
    "    'http://legifrance.gouv.fr/', '').str.replace(\n",
    "    'https://legifrance.gouv.fr/', '')\n",
    "\n",
    "google_links['type_of_doc'] = links_clean_http\n",
    "# Détection des circulaires.\n",
    "mask_circulaire = pd.Series([x.startswith('http') for x in links_clean_http])\n",
    "mask_affich = pd.Series([x.startswith('affich') for x in links_clean_http])\n",
    "google_links['circulaire'] = mask_circulaire.astype(int)\n",
    "# Détection des affichTexte\n",
    "google_links['affich'] = mask_affich.astype(int)\n",
    "# Détection des autre type\n",
    "google_links.loc[(google_links.circulaire == 0) & (google_links.affich == 0), 'autre_type'] = 1\n",
    "google_links.autre_type.fillna(0, inplace=True)\n",
    "google_links['autre_type'] = google_links.autre_type.astype(int)\n",
    "\n",
    "google_links.loc[google_links.affich == 1, \"type_affich\"] = [x[0] for x in google_links.loc[google_links.affich == 1].type_of_doc.str.split('.do')]\n",
    "google_links.loc[google_links.affich == 1, \"type_affich\"] = google_links.loc[google_links.affich == 1, \"type_affich\"].replace('affichTexteArticle', 'affichTexte')\n",
    "# Type d'affichTexte\n",
    "type_affichTexte = [x[0] for x in google_links[google_links.type_affich == 'affichTexte'].link_title.str.split(' ')]\n",
    "google_links.loc[google_links.type_affich == 'affichTexte', 'type_affichTexte'] = type_affichTexte\n",
    "# clean\n",
    "google_links.type_affichTexte.replace('Arręté', 'Arrêté', inplace=True)\n"
   ]
  },
  {
   "cell_type": "markdown",
   "metadata": {},
   "source": [
    "3 types de documents principaux :\n",
    "\n",
    "1. Les circulaires \n",
    "-> (ex : \n",
    "\n",
    "2. Les documents commençant par \"affich\" :\n",
    "    - **affichTexte**\n",
    "        - Les arrêtés (ex:https://www.legifrance.gouv.fr/affichTexte.do?cidTexte=JORFTEXT000026601023&categorieLien=id)\n",
    "        - Les avis (ex: https://www.legifrance.gouv.fr/affichTexte.do?cidTexte=JORFTEXT000033851257&categorieLien=id)\n",
    "        - Les délibérations (ex : https://www.legifrance.gouv.fr/affichTexte.do?cidTexte=JORFTEXT000031346155)\n",
    "        - Les décrets (ex: https://www.legifrance.gouv.fr/affichTexte.do?cidTexte=LEGITEXT000005631691&dateTexte=20041025)\n",
    "        - ...\n",
    "    - **affichJuriJuri**\n",
    "        - Textes cours de cassation (ex:https://www.legifrance.gouv.fr/affichJuriJudi.do?oldAction=rechJuriJudi&idTexte=JURITEXT000026181998)\n",
    "    - **affichCnil**\n",
    "        - Délibération (ex: https://www.legifrance.gouv.fr/affichCnil.do?id=CNILTEXT000027824156)\n",
    "    - **affichIDCC**\n",
    "        - Convention collective (ex: https://www.legifrance.gouv.fr/affichIDCC.do;jsessionid=385F29B7DD9591CBA7F4E74F310D0C72.tpdjo16v_1?idSectionTA=KALISCTA000005728051&cidTexte=KALITEXT000005683657&idConvention=KALICONT000005635185)\n",
    "        - Accord (il n'y en a qu'un) (ex: https://www.legifrance.gouv.fr/affichIDCC.do;jsessionid=385F29B7DD9591CBA7F4E74F310D0C72.tpdjo16v_1?idSectionTA=KALISCTA000005728051&cidTexte=KALITEXT000005683657&idConvention=KALICONT000005635185)\n",
    "            - REMARQUE : les scraper semblent indentiques.\n",
    "    - **affichAdmin**\n",
    "        - Cours administrative d'Appel (CAA) (ex: https://www.legifrance.gouv.fr/affichJuriAdmin.do?idTexte=CETATEXT000028991191)\n",
    "        - Conseil d'Etat (ex : https://www.legifrance.gouv.fr/affichJuriAdmin.do?idTexte=CETATEXT000027410895)\n",
    "            - REMARQUE : les scraper semblent indentiques.\n",
    "        \n",
    "3. Les autres documents"
   ]
  },
  {
   "cell_type": "code",
   "execution_count": 686,
   "metadata": {
    "collapsed": false
   },
   "outputs": [
    {
     "data": {
      "text/plain": [
       "affichTexte             110\n",
       "affichJuriJudi           20\n",
       "affichCnil               10\n",
       "affichJuriAdmin           9\n",
       "affichIDCC                9\n",
       "affichIDCCArticle         5\n",
       "affichCode                2\n",
       "affichCodeArticle         2\n",
       "affichLoiPubliee          2\n",
       "affichLoiPreparation      1\n",
       "Name: type_affich, dtype: int64"
      ]
     },
     "execution_count": 686,
     "metadata": {},
     "output_type": "execute_result"
    }
   ],
   "source": [
    "google_links.type_affich.value_counts()"
   ]
  },
  {
   "cell_type": "markdown",
   "metadata": {},
   "source": [
    "# How not to be banned\n",
    "\n",
    "- Switch user-agent\n",
    "- Put sleeps between requests\n"
   ]
  },
  {
   "cell_type": "code",
   "execution_count": 10,
   "metadata": {
    "collapsed": true
   },
   "outputs": [],
   "source": [
    "_UA_list = [\n",
    "    'Mozilla/5.0 (Windows; U; Windows NT 5.1; en-GB; rv:1.8.1.6) Gecko/20070725 ',\n",
    "    'Chrome/6.0.472.63 Safari/534.3',\n",
    "    'Firefox/2.0.0.6',\n",
    "    'Mozilla/5.0 (X11; U; Linux i686; en-US) AppleWebKit/534.3 (KHTML, like Gecko)',\n",
    "    'Chrome/6.0.472.63 Safari/534.3',\n",
    "    'Safari/419.3',\n",
    "    'Mozilla/5.0',\n",
    "    'Mozilla/5.0 (Linux; U; Android 0.5; en-us) AppleWebKit/522+ (KHTML, like Gecko) ',\n",
    "    'Opera/9.00 (Windows NT 5.1; U; en)',\n",
    "    'Version/3.0 Mobile/1A543a Safari/419.3',\n",
    "    'Mozilla/5.0 (iPhone; U; CPU like Mac OS X; en) AppleWebKit/420+ (KHTML, like Gecko)',\n",
    "    'Mozilla/5.0 (Windows NT 6.1) AppleWebKit/537.36 (KHTML, like Gecko) Chrome/41.0.2228.0 Safari/537.36',\n",
    "    'Mozilla/5.0 (Macintosh; Intel Mac OS X 10_10_5) AppleWebKit/537.36 (KHTML, like Gecko) Chrome/50.0.2661.102 Safari/537.36',\n",
    "    'Mozilla/5.0 (Windows NT 6.1; WOW64) AppleWebKit/537.36 (KHTML, like Gecko) Chrome/52.0.2743.116 Safari/537.36',\n",
    "    'Mozilla/5.0 (Windows NT 6.1; WOW64; rv:46.0) Gecko/20100101 Firefox/46.0',\n",
    "    'Mozilla/5.0 (X11; Ubuntu; Linux x86_64; rv:41.0) Gecko/20100101 Firefox/41.0'\n",
    "]\n",
    "\n",
    "_QUERIES = [\n",
    "    'algorithmes%2Bautomatique+site:%22legifrance.gouv.fr%22',\n",
    "    'classement%2Bautomatique+site:%22legifrance.gouv.fr%22',\n",
    "    'cryptographie+site:legifrance.gouv.fr',\n",
    "    'analyse+algorithme+-cryptographie+-cryptographiques+-cryptographique+%2Bsite:legifrance.gouv.fr',\n",
    "    '%22affectation+automatique%22%2Bsite:legifrance.gouv.fr'\n",
    "]\n",
    "\n",
    "RESULT_DICT = {}"
   ]
  },
  {
   "cell_type": "code",
   "execution_count": 88,
   "metadata": {
    "collapsed": true
   },
   "outputs": [],
   "source": [
    "## Initialize variable \"scraped\" to know if a file as been scraped\n",
    "google_links['scraped'] = False"
   ]
  },
  {
   "cell_type": "markdown",
   "metadata": {},
   "source": [
    "## Scraping des `affichTexte` par type (`type_affichTexte`)"
   ]
  },
  {
   "cell_type": "code",
   "execution_count": 8,
   "metadata": {
    "collapsed": false
   },
   "outputs": [
    {
     "data": {
      "text/plain": [
       "Arrêté          62\n",
       "Avis            15\n",
       "Délibération    12\n",
       "Décret           9\n",
       "Circulaire       3\n",
       "LOI              3\n",
       "Décision         2\n",
       "Vocabulaire      2\n",
       "Observations     1\n",
       "Ordonnance       1\n",
       "Name: type_affichTexte, dtype: int64"
      ]
     },
     "execution_count": 8,
     "metadata": {},
     "output_type": "execute_result"
    }
   ],
   "source": [
    "google_links.type_affichTexte.value_counts()"
   ]
  },
  {
   "cell_type": "code",
   "execution_count": 89,
   "metadata": {
    "collapsed": false
   },
   "outputs": [],
   "source": [
    "text_maker = html2text.HTML2Text()\n",
    "text_maker.bypass_tables = True\n",
    "text_maker.RE_MD_BACKSLASH_MATCHER = True\n",
    "text_maker.ESCAPE_SNOB = True\n",
    "text_maker.PROTECT_LINKS = True\n",
    "text_maker.IGNORE_TABLES= True\n",
    "text_maker.RE_UNESCAPE = True\n",
    "text_maker.USE_AUTOMATIC_LINKS = True\n",
    "text_maker.UNICODE_SNOB = True\n",
    "text_maker.BODY_WIDTH = 0"
   ]
  },
  {
   "cell_type": "code",
   "execution_count": 391,
   "metadata": {
    "collapsed": false
   },
   "outputs": [],
   "source": [
    "def scrap_affichTexte(type_affichTexte):\n",
    "    \"\"\" Scrap les différents type d'affichTexte.\n",
    "    \n",
    "    typeaffichTexte (str) : nom du type d'affichText (ex: \"Arrêté\")\n",
    "    \"\"\"\n",
    "    \n",
    "    google_links[\"scraped\"] = _is_scraped(google_links.link_id)\n",
    "\n",
    "    # Scrap mask\n",
    "    mask_type = (google_links.type_affichTexte == type_affichTexte)\n",
    "    mask_todo = (google_links.scraped == False)\n",
    "    \n",
    "    df = google_links.loc[mask_type & mask_todo, [\"link_id\", \"link\"]]\n",
    "    print(\"%s: %s lien(s) restant(s) à scrapper !\" % (type_affichTexte, len(df)))\n",
    "\n",
    "    link_titles = []\n",
    "    file_names = []\n",
    "    html_text_list = []\n",
    "    for row in df.iterrows():\n",
    "        file_name = \"%s_%s\" % (type_affichTexte, row[1][\"link_id\"])\n",
    "        # Request\n",
    "        UA = _change_identity()\n",
    "        header = {'User-Agent': UA} # Cause I'm not a bot!\n",
    "        page = request.Request(row[1][\"link\"], headers=header)\n",
    "\n",
    "        # Beautify results & convert to text\n",
    "        html = request.urlopen(page)\n",
    "        soup = BeautifulSoup(html, \"lxml\")\n",
    "        html_as_text = text_maker.handle(soup.text)\n",
    "        html_text_list.append(html_as_text)\n",
    "        # Titre\n",
    "        if (len(soup.findAll('div', {'class':'enteteTexte'})) > 0):\n",
    "            link_titles.append(soup.findAll('div', {'class':'enteteTexte'})[0].find('strong').text)\n",
    "        else:\n",
    "            link_titles.append('aucun_titre')\n",
    "        \n",
    "        file_names.append(file_name)\n",
    "\n",
    "        # Store text\n",
    "        with open(\"text/affichTexte/%s.txt\" % file_name, \"w\") as text_file:\n",
    "            text_file.write(html_as_text)\n",
    "\n",
    "    \n",
    "    google_links.loc[mask_type & mask_todo, \"link_title\"] = link_titles\n",
    "    google_links.loc[mask_type & mask_todo, \"file_name\"] = file_names\n",
    "    google_links.loc[mask_type & mask_todo, \"scraped\"] = True\n",
    "    google_links.loc[mask_type & mask_todo, \"html_as_text\"] = html_text_list\n",
    "\n",
    "\n",
    "def _is_scraped(serie):\n",
    "    \"\"\"\n",
    "    Check for each link_id (serie) if its been scraped already (by checking the generated files).\n",
    "    \n",
    "    Returns: a Serie of boolean.\n",
    "    \"\"\"\n",
    "    already_scraped = [x.split('_')[1].split('.txt')[0] for x in os.listdir('./text/affichTexte/') if x.endswith('.txt') ]\n",
    "\n",
    "    mask_scraped = [x in already_scraped for x in serie]\n",
    "\n",
    "    return mask_scraped\n",
    "\n",
    "#scrap_affichTexte(\"Arrêté\")"
   ]
  },
  {
   "cell_type": "code",
   "execution_count": 320,
   "metadata": {
    "collapsed": false
   },
   "outputs": [
    {
     "name": "stdout",
     "output_type": "stream",
     "text": [
      "Arrêté: 62 lien(s) restant(s) à scrapper !\n"
     ]
    }
   ],
   "source": [
    "scrap_affichTexte(\"Arrêté\")"
   ]
  },
  {
   "cell_type": "code",
   "execution_count": 394,
   "metadata": {
    "collapsed": false
   },
   "outputs": [
    {
     "name": "stdout",
     "output_type": "stream",
     "text": [
      "Arrêté: 62 lien(s) restant(s) à scrapper !\n",
      "Ordonnance: 1 lien(s) restant(s) à scrapper !\n",
      "Avis: 15 lien(s) restant(s) à scrapper !\n",
      "Délibération: 12 lien(s) restant(s) à scrapper !\n",
      "Vocabulaire: 2 lien(s) restant(s) à scrapper !\n",
      "LOI: 3 lien(s) restant(s) à scrapper !\n",
      "Décision: 2 lien(s) restant(s) à scrapper !\n",
      "Décret: 9 lien(s) restant(s) à scrapper !\n",
      "Circulaire: 3 lien(s) restant(s) à scrapper !\n",
      "Observations: 1 lien(s) restant(s) à scrapper !\n"
     ]
    }
   ],
   "source": [
    "for type_aff in google_links.type_affichTexte.dropna().unique():\n",
    "    scrap_affichTexte(type_aff)"
   ]
  },
  {
   "cell_type": "code",
   "execution_count": 722,
   "metadata": {
    "collapsed": false
   },
   "outputs": [],
   "source": [
    "google_links.to_csv('legifrance_links.csv', sep=';')"
   ]
  },
  {
   "cell_type": "code",
   "execution_count": null,
   "metadata": {
    "collapsed": true
   },
   "outputs": [],
   "source": []
  }
 ],
 "metadata": {
  "kernelspec": {
   "display_name": "Python 3",
   "language": "python",
   "name": "python3"
  },
  "language_info": {
   "codemirror_mode": {
    "name": "ipython",
    "version": 3
   },
   "file_extension": ".py",
   "mimetype": "text/x-python",
   "name": "python",
   "nbconvert_exporter": "python",
   "pygments_lexer": "ipython3",
   "version": "3.6.0"
  }
 },
 "nbformat": 4,
 "nbformat_minor": 2
}
