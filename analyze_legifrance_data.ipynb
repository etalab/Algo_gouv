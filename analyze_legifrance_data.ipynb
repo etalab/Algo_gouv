{
 "cells": [
  {
   "cell_type": "code",
   "execution_count": 1,
   "metadata": {
    "collapsed": false
   },
   "outputs": [],
   "source": [
    "import os\n",
    "import numpy as np\n",
    "import pandas as pd\n",
    "from bs4 import BeautifulSoup\n",
    "from urllib import request, response, parse\n",
    "import re\n",
    "import pickle\n",
    "import html2text\n",
    "import stop_words\n",
    "from itertools import islice\n",
    "from collections import Counter\n",
    "\n",
    "from matplotlib import pyplot as plt\n",
    "import seaborn as sns\n",
    "\n",
    "sns.set(style=\"white\")\n",
    "%matplotlib inline\n",
    "path_file = '/Users/gowitheflow/Documents/ETALAB/algo_gouv/'"
   ]
  },
  {
   "cell_type": "markdown",
   "metadata": {},
   "source": [
    "# Import des données scrapées de legifrance"
   ]
  },
  {
   "cell_type": "code",
   "execution_count": 2,
   "metadata": {
    "collapsed": false
   },
   "outputs": [
    {
     "data": {
      "text/html": [
       "<div>\n",
       "<table border=\"1\" class=\"dataframe\">\n",
       "  <thead>\n",
       "    <tr style=\"text-align: right;\">\n",
       "      <th></th>\n",
       "      <th>query</th>\n",
       "      <th>link_title</th>\n",
       "      <th>link</th>\n",
       "      <th>n_pages</th>\n",
       "      <th>type_of_doc</th>\n",
       "      <th>circulaire</th>\n",
       "      <th>affich</th>\n",
       "      <th>autre_type</th>\n",
       "      <th>type_affich</th>\n",
       "      <th>type_affichTexte</th>\n",
       "      <th>scraped</th>\n",
       "      <th>link_id</th>\n",
       "      <th>file_name</th>\n",
       "      <th>html_as_text</th>\n",
       "    </tr>\n",
       "  </thead>\n",
       "  <tbody>\n",
       "    <tr>\n",
       "      <th>0</th>\n",
       "      <td>algorithmes%2Bautomatique+site:%22legifrance.g...</td>\n",
       "      <td>Cour de cassation, civile, Chambre civile 1, 1...</td>\n",
       "      <td>https://www.legifrance.gouv.fr/affichJuriJudi....</td>\n",
       "      <td>11</td>\n",
       "      <td>affichJuriJudi.do?oldAction=rechJuriJudi&amp;idTex...</td>\n",
       "      <td>0</td>\n",
       "      <td>1</td>\n",
       "      <td>0</td>\n",
       "      <td>affichJuriJudi</td>\n",
       "      <td>NaN</td>\n",
       "      <td>False</td>\n",
       "      <td>9fc4b03b89b16fb0</td>\n",
       "      <td>NaN</td>\n",
       "      <td>NaN</td>\n",
       "    </tr>\n",
       "    <tr>\n",
       "      <th>1</th>\n",
       "      <td>algorithmes%2Bautomatique+site:%22legifrance.g...</td>\n",
       "      <td>Arrêté du 17 octobre 2012 modifiant la méthode...</td>\n",
       "      <td>https://www.legifrance.gouv.fr/affichTexte.do?...</td>\n",
       "      <td>11</td>\n",
       "      <td>affichTexte.do?cidTexte=JORFTEXT000026601023&amp;c...</td>\n",
       "      <td>0</td>\n",
       "      <td>1</td>\n",
       "      <td>0</td>\n",
       "      <td>affichTexte</td>\n",
       "      <td>Arrêté</td>\n",
       "      <td>True</td>\n",
       "      <td>01680d71f4c7703b</td>\n",
       "      <td>Arrêté_01680d71f4c7703b</td>\n",
       "      <td>Arrêté du 17 octobre 2012 modifiant la méthode...</td>\n",
       "    </tr>\n",
       "  </tbody>\n",
       "</table>\n",
       "</div>"
      ],
      "text/plain": [
       "                                               query  \\\n",
       "0  algorithmes%2Bautomatique+site:%22legifrance.g...   \n",
       "1  algorithmes%2Bautomatique+site:%22legifrance.g...   \n",
       "\n",
       "                                          link_title  \\\n",
       "0  Cour de cassation, civile, Chambre civile 1, 1...   \n",
       "1  Arrêté du 17 octobre 2012 modifiant la méthode...   \n",
       "\n",
       "                                                link  n_pages  \\\n",
       "0  https://www.legifrance.gouv.fr/affichJuriJudi....       11   \n",
       "1  https://www.legifrance.gouv.fr/affichTexte.do?...       11   \n",
       "\n",
       "                                         type_of_doc  circulaire  affich  \\\n",
       "0  affichJuriJudi.do?oldAction=rechJuriJudi&idTex...           0       1   \n",
       "1  affichTexte.do?cidTexte=JORFTEXT000026601023&c...           0       1   \n",
       "\n",
       "   autre_type     type_affich type_affichTexte scraped           link_id  \\\n",
       "0           0  affichJuriJudi              NaN   False  9fc4b03b89b16fb0   \n",
       "1           0     affichTexte           Arrêté    True  01680d71f4c7703b   \n",
       "\n",
       "                 file_name                                       html_as_text  \n",
       "0                      NaN                                                NaN  \n",
       "1  Arrêté_01680d71f4c7703b  Arrêté du 17 octobre 2012 modifiant la méthode...  "
      ]
     },
     "execution_count": 2,
     "metadata": {},
     "output_type": "execute_result"
    }
   ],
   "source": [
    "legifrance_links = pd.read_csv('legifrance_links.csv', index_col=False, sep=';').drop('Unnamed: 0', axis=1)\n",
    "legifrance_links.head(2)"
   ]
  },
  {
   "cell_type": "markdown",
   "metadata": {},
   "source": [
    "## Analyse des textes"
   ]
  },
  {
   "cell_type": "code",
   "execution_count": 3,
   "metadata": {
    "collapsed": true
   },
   "outputs": [],
   "source": [
    "french_stop_words = []"
   ]
  },
  {
   "cell_type": "code",
   "execution_count": 4,
   "metadata": {
    "collapsed": true
   },
   "outputs": [],
   "source": [
    "french_stop_words = stop_words.get_stop_words('french')\n"
   ]
  },
  {
   "cell_type": "code",
   "execution_count": 5,
   "metadata": {
    "collapsed": false,
    "scrolled": true
   },
   "outputs": [],
   "source": [
    "french_stop_words = stop_words.get_stop_words('french')\n",
    "french_stop_words += ['arrêt', 'arrêté', 'décrêt', 'décret', 'loi', 'articl', 'article', 'articles', 'article', 'section', 'savoir plus', 'voir plus', 'savoir', ':','•', '-', '―', '×', '=', '%', ';', '+', 'x', 'l\\'', 'd\\'un', 'd\\'une']\n",
    "french_stop_words += ['janvier', 'février', 'mars', 'avril', 'mai', 'juin', 'juillet', 'aout', 'septembre', 'octobre', 'novembre', 'décembre', 'année']\n",
    "french_stop_words = list(set(french_stop_words))"
   ]
  },
  {
   "cell_type": "code",
   "execution_count": 6,
   "metadata": {
    "collapsed": false
   },
   "outputs": [
    {
     "data": {
      "text/plain": [
       "285"
      ]
     },
     "execution_count": 6,
     "metadata": {},
     "output_type": "execute_result"
    }
   ],
   "source": [
    "len(french_stop_words)"
   ]
  },
  {
   "cell_type": "code",
   "execution_count": 7,
   "metadata": {
    "collapsed": false
   },
   "outputs": [],
   "source": [
    "list_file = [x for x in os.listdir('./text/affichTexte/') if x.endswith('.txt')]"
   ]
  },
  {
   "cell_type": "code",
   "execution_count": 8,
   "metadata": {
    "collapsed": false
   },
   "outputs": [],
   "source": [
    "with open(\"text/affichTexte/%s\" % list_file[1], \"r\") as text_file:\n",
    "    a = text_file.read()"
   ]
  },
  {
   "cell_type": "code",
   "execution_count": 9,
   "metadata": {
    "collapsed": true
   },
   "outputs": [],
   "source": [
    "legifrance_links\n",
    "legifrance_links.fillna('', inplace=True)"
   ]
  },
  {
   "cell_type": "code",
   "execution_count": 10,
   "metadata": {
    "collapsed": true
   },
   "outputs": [],
   "source": [
    "legifrance_links['html_wordlist'] = legifrance_links.html_as_text.apply(lambda s: s.split(' '))"
   ]
  },
  {
   "cell_type": "code",
   "execution_count": 11,
   "metadata": {
    "collapsed": false
   },
   "outputs": [
    {
     "data": {
      "text/html": [
       "<div>\n",
       "<table border=\"1\" class=\"dataframe\">\n",
       "  <thead>\n",
       "    <tr style=\"text-align: right;\">\n",
       "      <th></th>\n",
       "      <th>query</th>\n",
       "      <th>link_title</th>\n",
       "      <th>link</th>\n",
       "      <th>n_pages</th>\n",
       "      <th>type_of_doc</th>\n",
       "      <th>circulaire</th>\n",
       "      <th>affich</th>\n",
       "      <th>autre_type</th>\n",
       "      <th>type_affich</th>\n",
       "      <th>type_affichTexte</th>\n",
       "      <th>scraped</th>\n",
       "      <th>link_id</th>\n",
       "      <th>file_name</th>\n",
       "      <th>html_as_text</th>\n",
       "      <th>html_wordlist</th>\n",
       "    </tr>\n",
       "  </thead>\n",
       "  <tbody>\n",
       "    <tr>\n",
       "      <th>1</th>\n",
       "      <td>algorithmes%2Bautomatique+site:%22legifrance.g...</td>\n",
       "      <td>Arrêté du 17 octobre 2012 modifiant la méthode...</td>\n",
       "      <td>https://www.legifrance.gouv.fr/affichTexte.do?...</td>\n",
       "      <td>11</td>\n",
       "      <td>affichTexte.do?cidTexte=JORFTEXT000026601023&amp;c...</td>\n",
       "      <td>0</td>\n",
       "      <td>1</td>\n",
       "      <td>0</td>\n",
       "      <td>affichTexte</td>\n",
       "      <td>Arrêté</td>\n",
       "      <td>True</td>\n",
       "      <td>01680d71f4c7703b</td>\n",
       "      <td>Arrêté_01680d71f4c7703b</td>\n",
       "      <td>Arrêté du 17 octobre 2012 modifiant la méthode...</td>\n",
       "      <td>[Arrêté, du, 17, octobre, 2012, modifiant, la,...</td>\n",
       "    </tr>\n",
       "  </tbody>\n",
       "</table>\n",
       "</div>"
      ],
      "text/plain": [
       "                                               query  \\\n",
       "1  algorithmes%2Bautomatique+site:%22legifrance.g...   \n",
       "\n",
       "                                          link_title  \\\n",
       "1  Arrêté du 17 octobre 2012 modifiant la méthode...   \n",
       "\n",
       "                                                link  n_pages  \\\n",
       "1  https://www.legifrance.gouv.fr/affichTexte.do?...       11   \n",
       "\n",
       "                                         type_of_doc  circulaire  affich  \\\n",
       "1  affichTexte.do?cidTexte=JORFTEXT000026601023&c...           0       1   \n",
       "\n",
       "   autre_type  type_affich type_affichTexte scraped           link_id  \\\n",
       "1           0  affichTexte           Arrêté    True  01680d71f4c7703b   \n",
       "\n",
       "                 file_name                                       html_as_text  \\\n",
       "1  Arrêté_01680d71f4c7703b  Arrêté du 17 octobre 2012 modifiant la méthode...   \n",
       "\n",
       "                                       html_wordlist  \n",
       "1  [Arrêté, du, 17, octobre, 2012, modifiant, la,...  "
      ]
     },
     "execution_count": 11,
     "metadata": {},
     "output_type": "execute_result"
    }
   ],
   "source": [
    "legifrance_links.loc[legifrance_links.type_affichTexte == \"Arrêté\"].head(1)"
   ]
  },
  {
   "cell_type": "markdown",
   "metadata": {},
   "source": [
    "### Co-occurence\n",
    "Il serait tout aussi intéressant de connaître les co-occurence de mots. Par exemple \"Traitement automatique\" n'a pas le même sens que les mots \"traitement\" et \"automatique\" pris séparément."
   ]
  },
  {
   "cell_type": "code",
   "execution_count": null,
   "metadata": {
    "collapsed": false
   },
   "outputs": [],
   "source": []
  },
  {
   "cell_type": "code",
   "execution_count": 12,
   "metadata": {
    "collapsed": false
   },
   "outputs": [],
   "source": [
    "# Cleaning functions\n",
    "def cleanSteps(wordlist, stop_words):\n",
    "    clean_wordlist = _lowerBoundsWords(wordlist)\n",
    "    clean_wordlist = _dropNumericWords(clean_wordlist)\n",
    "    clean_wordlist = _dropStopWords(clean_wordlist, stop_words)\n",
    "    return clean_wordlist\n",
    "\n",
    "def _lowerBoundsWords(wordlist):\n",
    "    return[w.lower() for w in wordlist]\n",
    "\n",
    "def _dropStopWords(wordlist, stop_words):\n",
    "    return [w for w in wordlist if w not in stop_words]\n",
    "\n",
    "def _dropNumericWords(wordlist):\n",
    "    return [w for w in wordlist if not w.isdigit()]\n",
    "\n",
    "def sortFreqDict(freqdict):\n",
    "    aux = [(freqdict[key], key) for key in freqdict]\n",
    "    aux.sort()\n",
    "    aux.reverse() # descending\n",
    "    return aux\n",
    "\n",
    "def listToPairwise(wordlist):\n",
    "    return [' '.join(pair) for pair in zip(wordlist, wordlist[1:])]\n",
    "\n",
    "# All in one\n",
    "def makeAllSteps(wordlist, stop_words):\n",
    "    # Clean.\n",
    "    clean_wordlist = cleanSteps(wordlist, stop_words)\n",
    "    clean_wordlist_pairwise = listToPairwise(clean_wordlist)\n",
    "    # Count.\n",
    "    freqDict = Counter(clean_wordlist)\n",
    "    pairwisefreqDict = Counter(clean_wordlist_pairwise)\n",
    "    \n",
    "    # Combine both dictionnary\n",
    "    freqDict.update(pairwisefreqDict)\n",
    "    # Sort.\n",
    "    sorted_freqDict = sortFreqDict(freqDict)\n",
    "    \n",
    "    return sorted_freqDict\n",
    "    "
   ]
  },
  {
   "cell_type": "code",
   "execution_count": 13,
   "metadata": {
    "collapsed": false
   },
   "outputs": [],
   "source": [
    "legifrance_links['sorted_freqDict'] = legifrance_links.html_wordlist.apply(lambda w: makeAllSteps(w, french_stop_words))"
   ]
  },
  {
   "cell_type": "code",
   "execution_count": 14,
   "metadata": {
    "collapsed": false,
    "scrolled": true
   },
   "outputs": [
    {
     "data": {
      "text/html": [
       "<div>\n",
       "<table border=\"1\" class=\"dataframe\">\n",
       "  <thead>\n",
       "    <tr style=\"text-align: right;\">\n",
       "      <th></th>\n",
       "      <th>query</th>\n",
       "      <th>link_title</th>\n",
       "      <th>link</th>\n",
       "      <th>n_pages</th>\n",
       "      <th>type_of_doc</th>\n",
       "      <th>circulaire</th>\n",
       "      <th>affich</th>\n",
       "      <th>autre_type</th>\n",
       "      <th>type_affich</th>\n",
       "      <th>type_affichTexte</th>\n",
       "      <th>scraped</th>\n",
       "      <th>link_id</th>\n",
       "      <th>file_name</th>\n",
       "      <th>html_as_text</th>\n",
       "      <th>html_wordlist</th>\n",
       "      <th>sorted_freqDict</th>\n",
       "    </tr>\n",
       "  </thead>\n",
       "  <tbody>\n",
       "    <tr>\n",
       "      <th>1</th>\n",
       "      <td>algorithmes%2Bautomatique+site:%22legifrance.g...</td>\n",
       "      <td>Arrêté du 17 octobre 2012 modifiant la méthode...</td>\n",
       "      <td>https://www.legifrance.gouv.fr/affichTexte.do?...</td>\n",
       "      <td>11</td>\n",
       "      <td>affichTexte.do?cidTexte=JORFTEXT000026601023&amp;c...</td>\n",
       "      <td>0</td>\n",
       "      <td>1</td>\n",
       "      <td>0</td>\n",
       "      <td>affichTexte</td>\n",
       "      <td>Arrêté</td>\n",
       "      <td>True</td>\n",
       "      <td>01680d71f4c7703b</td>\n",
       "      <td>Arrêté_01680d71f4c7703b</td>\n",
       "      <td>Arrêté du 17 octobre 2012 modifiant la méthode...</td>\n",
       "      <td>[Arrêté, du, 17, octobre, 2012, modifiant, la,...</td>\n",
       "      <td>[(136, chauffage), (114, tableau), (107, numér...</td>\n",
       "    </tr>\n",
       "    <tr>\n",
       "      <th>2</th>\n",
       "      <td>algorithmes%2Bautomatique+site:%22legifrance.g...</td>\n",
       "      <td>Arrêté du 10 novembre 2011 autorisant au titre...</td>\n",
       "      <td>http://www.legifrance.gouv.fr/affichTexte.do?c...</td>\n",
       "      <td>11</td>\n",
       "      <td>affichTexte.do?cidTexte=JORFTEXT000024874337&amp;d...</td>\n",
       "      <td>0</td>\n",
       "      <td>1</td>\n",
       "      <td>0</td>\n",
       "      <td>affichTexte</td>\n",
       "      <td>Arrêté</td>\n",
       "      <td>True</td>\n",
       "      <td>aafaf70cec9caed3</td>\n",
       "      <td>Arrêté_aafaf70cec9caed3</td>\n",
       "      <td>Arrêté du 10 novembre 2011 autorisant au titre...</td>\n",
       "      <td>[Arrêté, du, 10, novembre, 2011, autorisant, a...</td>\n",
       "      <td>[(86, recherche), (73, 2e), (61, recherche 2e)...</td>\n",
       "    </tr>\n",
       "    <tr>\n",
       "      <th>4</th>\n",
       "      <td>algorithmes%2Bautomatique+site:%22legifrance.g...</td>\n",
       "      <td>Arrêté du 13 novembre 2015 autorisant au titre...</td>\n",
       "      <td>https://www.legifrance.gouv.fr/affichTexte.do?...</td>\n",
       "      <td>11</td>\n",
       "      <td>affichTexte.do?cidTexte=JORFTEXT000031490420</td>\n",
       "      <td>0</td>\n",
       "      <td>1</td>\n",
       "      <td>0</td>\n",
       "      <td>affichTexte</td>\n",
       "      <td>Arrêté</td>\n",
       "      <td>True</td>\n",
       "      <td>0f71ae439adc9026</td>\n",
       "      <td>Arrêté_0f71ae439adc9026</td>\n",
       "      <td>Arrêté du 13 novembre 2015 autorisant au titre...</td>\n",
       "      <td>[Arrêté, du, 13, novembre, 2015, autorisant, a...</td>\n",
       "      <td>[(68, recherche), (61, 2e), (61, \"), (52, rech...</td>\n",
       "    </tr>\n",
       "    <tr>\n",
       "      <th>5</th>\n",
       "      <td>algorithmes%2Bautomatique+site:%22legifrance.g...</td>\n",
       "      <td>Arrêté du 14 novembre 2016 autorisant au titre...</td>\n",
       "      <td>https://www.legifrance.gouv.fr/affichTexte.do?...</td>\n",
       "      <td>11</td>\n",
       "      <td>affichTexte.do?cidTexte=JORFTEXT000033480019&amp;c...</td>\n",
       "      <td>0</td>\n",
       "      <td>1</td>\n",
       "      <td>0</td>\n",
       "      <td>affichTexte</td>\n",
       "      <td>Arrêté</td>\n",
       "      <td>True</td>\n",
       "      <td>0f4f10d20f393ec1</td>\n",
       "      <td>Arrêté_0f4f10d20f393ec1</td>\n",
       "      <td>Arrêté du 14 novembre 2016 autorisant au titre...</td>\n",
       "      <td>[Arrêté, du, 14, novembre, 2016, autorisant, a...</td>\n",
       "      <td>[(58, recherche), (51, \"), (46, chargés), (46,...</td>\n",
       "    </tr>\n",
       "    <tr>\n",
       "      <th>23</th>\n",
       "      <td>algorithmes%2Bautomatique+site:%22legifrance.g...</td>\n",
       "      <td>Arrêté du 6 février 2017 relatif au programme ...</td>\n",
       "      <td>https://www.legifrance.gouv.fr/affichTexte.do?...</td>\n",
       "      <td>11</td>\n",
       "      <td>affichTexte.do?cidTexte=JORFTEXT000034011118&amp;</td>\n",
       "      <td>0</td>\n",
       "      <td>1</td>\n",
       "      <td>0</td>\n",
       "      <td>affichTexte</td>\n",
       "      <td>Arrêté</td>\n",
       "      <td>True</td>\n",
       "      <td>3e8398a585e5ef49</td>\n",
       "      <td>Arrêté_3e8398a585e5ef49</td>\n",
       "      <td>Arrêté du 6 février 2017 relatif au programme ...</td>\n",
       "      <td>[Arrêté, du, 6, février, 2017, relatif, au, pr...</td>\n",
       "      <td>[(113, s), (67, s s), (39, min), (36, min s), ...</td>\n",
       "    </tr>\n",
       "  </tbody>\n",
       "</table>\n",
       "</div>"
      ],
      "text/plain": [
       "                                                query  \\\n",
       "1   algorithmes%2Bautomatique+site:%22legifrance.g...   \n",
       "2   algorithmes%2Bautomatique+site:%22legifrance.g...   \n",
       "4   algorithmes%2Bautomatique+site:%22legifrance.g...   \n",
       "5   algorithmes%2Bautomatique+site:%22legifrance.g...   \n",
       "23  algorithmes%2Bautomatique+site:%22legifrance.g...   \n",
       "\n",
       "                                           link_title  \\\n",
       "1   Arrêté du 17 octobre 2012 modifiant la méthode...   \n",
       "2   Arrêté du 10 novembre 2011 autorisant au titre...   \n",
       "4   Arrêté du 13 novembre 2015 autorisant au titre...   \n",
       "5   Arrêté du 14 novembre 2016 autorisant au titre...   \n",
       "23  Arrêté du 6 février 2017 relatif au programme ...   \n",
       "\n",
       "                                                 link  n_pages  \\\n",
       "1   https://www.legifrance.gouv.fr/affichTexte.do?...       11   \n",
       "2   http://www.legifrance.gouv.fr/affichTexte.do?c...       11   \n",
       "4   https://www.legifrance.gouv.fr/affichTexte.do?...       11   \n",
       "5   https://www.legifrance.gouv.fr/affichTexte.do?...       11   \n",
       "23  https://www.legifrance.gouv.fr/affichTexte.do?...       11   \n",
       "\n",
       "                                          type_of_doc  circulaire  affich  \\\n",
       "1   affichTexte.do?cidTexte=JORFTEXT000026601023&c...           0       1   \n",
       "2   affichTexte.do?cidTexte=JORFTEXT000024874337&d...           0       1   \n",
       "4        affichTexte.do?cidTexte=JORFTEXT000031490420           0       1   \n",
       "5   affichTexte.do?cidTexte=JORFTEXT000033480019&c...           0       1   \n",
       "23      affichTexte.do?cidTexte=JORFTEXT000034011118&           0       1   \n",
       "\n",
       "    autre_type  type_affich type_affichTexte scraped           link_id  \\\n",
       "1            0  affichTexte           Arrêté    True  01680d71f4c7703b   \n",
       "2            0  affichTexte           Arrêté    True  aafaf70cec9caed3   \n",
       "4            0  affichTexte           Arrêté    True  0f71ae439adc9026   \n",
       "5            0  affichTexte           Arrêté    True  0f4f10d20f393ec1   \n",
       "23           0  affichTexte           Arrêté    True  3e8398a585e5ef49   \n",
       "\n",
       "                  file_name  \\\n",
       "1   Arrêté_01680d71f4c7703b   \n",
       "2   Arrêté_aafaf70cec9caed3   \n",
       "4   Arrêté_0f71ae439adc9026   \n",
       "5   Arrêté_0f4f10d20f393ec1   \n",
       "23  Arrêté_3e8398a585e5ef49   \n",
       "\n",
       "                                         html_as_text  \\\n",
       "1   Arrêté du 17 octobre 2012 modifiant la méthode...   \n",
       "2   Arrêté du 10 novembre 2011 autorisant au titre...   \n",
       "4   Arrêté du 13 novembre 2015 autorisant au titre...   \n",
       "5   Arrêté du 14 novembre 2016 autorisant au titre...   \n",
       "23  Arrêté du 6 février 2017 relatif au programme ...   \n",
       "\n",
       "                                        html_wordlist  \\\n",
       "1   [Arrêté, du, 17, octobre, 2012, modifiant, la,...   \n",
       "2   [Arrêté, du, 10, novembre, 2011, autorisant, a...   \n",
       "4   [Arrêté, du, 13, novembre, 2015, autorisant, a...   \n",
       "5   [Arrêté, du, 14, novembre, 2016, autorisant, a...   \n",
       "23  [Arrêté, du, 6, février, 2017, relatif, au, pr...   \n",
       "\n",
       "                                      sorted_freqDict  \n",
       "1   [(136, chauffage), (114, tableau), (107, numér...  \n",
       "2   [(86, recherche), (73, 2e), (61, recherche 2e)...  \n",
       "4   [(68, recherche), (61, 2e), (61, \"), (52, rech...  \n",
       "5   [(58, recherche), (51, \"), (46, chargés), (46,...  \n",
       "23  [(113, s), (67, s s), (39, min), (36, min s), ...  "
      ]
     },
     "execution_count": 14,
     "metadata": {},
     "output_type": "execute_result"
    }
   ],
   "source": [
    "legifrance_links.loc[legifrance_links.type_affichTexte == \"Arrêté\"].head(5)"
   ]
  },
  {
   "cell_type": "code",
   "execution_count": 15,
   "metadata": {
    "collapsed": true
   },
   "outputs": [],
   "source": [
    "def plotCountDf(df, link_id, top=15):\n",
    "    viz_df = pd.DataFrame(df.loc[df['link_id'] == link_id].sorted_freqDict.iloc[0], columns=['count', 'word'])\n",
    "    _ = sns.factorplot(x=\"word\", y='count', data=viz_df.iloc[:top], kind='bar', palette=\"PuBu\", size=6, aspect=1.5)\n",
    "    print(\"Lien: \" + legifrance_links.loc[legifrance_links['link_id'] == link_id].link.iloc[0])"
   ]
  },
  {
   "cell_type": "code",
   "execution_count": 16,
   "metadata": {
    "collapsed": false,
    "scrolled": false
   },
   "outputs": [
    {
     "name": "stdout",
     "output_type": "stream",
     "text": [
      "Lien: http://www.legifrance.gouv.fr/affichTexte.do?cidTexte=JORFTEXT000024874337&dateTexte=&categorieLien=id\n"
     ]
    },
    {
     "data": {
      "image/png": "[encoded data removed]",
      "text/plain": [
       "<matplotlib.figure.Figure at 0x117086c50>"
      ]
     },
     "metadata": {},
     "output_type": "display_data"
    }
   ],
   "source": [
    "plotCountDf(legifrance_links, 'aafaf70cec9caed3')"
   ]
  },
  {
   "cell_type": "markdown",
   "metadata": {},
   "source": [
    "## Et maintenant ?\n",
    "\n",
    "- Listons les mots qui semblent intéressants pour qualifier un algorithme, ou ceux qui au contraire exclu directement le lien.\n",
    "\n",
    "### Mots incluants\n",
    "algorithme, cryptographie, apprentissage, automatique, \n",
    "\n",
    "### Mots excluants\n",
    "concours, \n"
   ]
  },
  {
   "cell_type": "code",
   "execution_count": 29,
   "metadata": {
    "collapsed": false
   },
   "outputs": [],
   "source": [
    "def detect_crypto(s):\n",
    "    return s.startswith('crypto')\n",
    "\n",
    "def detect_algo(s):\n",
    "    return s.startswith('algo')\n",
    "\n",
    "def detect_apprentissage(s):\n",
    "    return s.startswith('apprentissage')\n",
    "\n",
    "# Attention : \"boîte de vitesse automatique, ..\"\n",
    "def detect_automat(s):\n",
    "    return s.startswith('automat')\n",
    "\n",
    "def detect_clasification(s):\n",
    "    return s.startswith('classifi')\n",
    "\n",
    "def detect_donnees(s):\n",
    "    return s.startswith('données')\n",
    "# Pairwise\n",
    "def detect_traitement_auto(s):\n",
    "    return s.startswith('traitement auto') or s.startswith('traitements auto') or \\\n",
    "    s.startswith('classification auto') or s.startswith('classifications auto')  or \\\n",
    "    s.startswith('tri auto') or s.startswith('tris auto')  or \\\n",
    "    s.startswith('apprentissage auto') or s.startswith('apprentissages auto')\n",
    "    \n",
    "def detect_analyse_donnees(s):\n",
    "    return s.startswith('analyse donnée') or s.startswith('analyses données') or\\\n",
    "    s.startswith('traitement données') or s.startswith('traitement donnée')\n",
    "\n",
    "# Mots excluants\n",
    "def detect_concours(s):\n",
    "    return s.startswith('concour') or s.startswith('épreuve') or  s.startswith('l\\'épreuve')\n",
    "\n",
    "def detect_enseignement(s):\n",
    "    return (s.startswith('enseign') or  s.startswith('l\\'enseign') or  s.startswith('universit'))"
   ]
  },
  {
   "cell_type": "code",
   "execution_count": 30,
   "metadata": {
    "collapsed": false
   },
   "outputs": [],
   "source": [
    "# Incluants\n",
    "legifrance_links['algo_count'] = legifrance_links.sorted_freqDict.apply(\n",
    "    lambda x: sum([s[0] for s in x if detect_algo(s[1])]))\n",
    "legifrance_links['crypto_count'] = legifrance_links.sorted_freqDict.apply(\n",
    "    lambda x: sum([s[0] for s in x if detect_crypto(s[1])]))\n",
    "legifrance_links['apprentissage_count'] = legifrance_links.sorted_freqDict.apply(\n",
    "    lambda x: sum([s[0] for s in x if detect_apprentissage(s[1])]))\n",
    "#legifrance_links['automat_count'] = legifrance_links.sorted_freqDict.apply(\n",
    "#    lambda x: sum([s[0] for s in x if detect_automat(s[1])]))\n",
    "legifrance_links['classifi_count'] = legifrance_links.sorted_freqDict.apply(\n",
    "    lambda x: sum([s[0] for s in x if detect_clasification(s[1])]))\n",
    "#legifrance_links['donnees_count'] = legifrance_links.sorted_freqDict.apply(\n",
    "#    lambda x: sum([s[0] for s in x if detect_donnees(s[1])]))\n",
    "legifrance_links['traitement_auto_count'] = legifrance_links.sorted_freqDict.apply(\n",
    "    lambda x: sum([s[0] for s in x if detect_traitement_auto(s[1])]))\n",
    "legifrance_links['analyse_donnees_count'] = legifrance_links.sorted_freqDict.apply(\n",
    "    lambda x: sum([s[0] for s in x if detect_analyse_donnees(s[1])]))\n",
    "# Excluants\n",
    "legifrance_links['concours_less'] = legifrance_links.sorted_freqDict.apply(\n",
    "    lambda x: sum([s[0] for s in x if detect_concours(s[1])]))\n",
    "legifrance_links['enseignement_less'] = legifrance_links.sorted_freqDict.apply(\n",
    "    lambda x: sum([s[0] for s in x if detect_enseignement(s[1])]))\n",
    "\n",
    "# On somme tous les mots incluants pour avoir une métrique cool\n",
    "col_incluants = [col for col in legifrance_links.columns if col.endswith('_count')]\n",
    "col_excluants = [col for col in legifrance_links.columns if col.endswith('_less')]\n",
    "\n",
    "legifrance_links['score'] = legifrance_links[col_incluants].sum(axis=1)"
   ]
  },
  {
   "cell_type": "code",
   "execution_count": 45,
   "metadata": {
    "collapsed": false
   },
   "outputs": [
    {
     "data": {
      "text/html": [
       "<div>\n",
       "<table border=\"1\" class=\"dataframe\">\n",
       "  <thead>\n",
       "    <tr style=\"text-align: right;\">\n",
       "      <th></th>\n",
       "      <th>algo_count</th>\n",
       "      <th>crypto_count</th>\n",
       "      <th>apprentissage_count</th>\n",
       "      <th>classifi_count</th>\n",
       "      <th>traitement_auto_count</th>\n",
       "      <th>analyse_donnees_count</th>\n",
       "      <th>score</th>\n",
       "    </tr>\n",
       "  </thead>\n",
       "  <tbody>\n",
       "    <tr>\n",
       "      <th>count</th>\n",
       "      <td>237.000000</td>\n",
       "      <td>237.000000</td>\n",
       "      <td>237.000000</td>\n",
       "      <td>237.000000</td>\n",
       "      <td>237.000000</td>\n",
       "      <td>237.000000</td>\n",
       "      <td>237.000000</td>\n",
       "    </tr>\n",
       "    <tr>\n",
       "      <th>mean</th>\n",
       "      <td>1.122363</td>\n",
       "      <td>0.540084</td>\n",
       "      <td>0.126582</td>\n",
       "      <td>0.658228</td>\n",
       "      <td>0.274262</td>\n",
       "      <td>0.185654</td>\n",
       "      <td>2.907173</td>\n",
       "    </tr>\n",
       "    <tr>\n",
       "      <th>std</th>\n",
       "      <td>3.966732</td>\n",
       "      <td>5.654932</td>\n",
       "      <td>0.823908</td>\n",
       "      <td>2.278600</td>\n",
       "      <td>1.035745</td>\n",
       "      <td>0.817787</td>\n",
       "      <td>8.073276</td>\n",
       "    </tr>\n",
       "    <tr>\n",
       "      <th>min</th>\n",
       "      <td>0.000000</td>\n",
       "      <td>0.000000</td>\n",
       "      <td>0.000000</td>\n",
       "      <td>0.000000</td>\n",
       "      <td>0.000000</td>\n",
       "      <td>0.000000</td>\n",
       "      <td>0.000000</td>\n",
       "    </tr>\n",
       "    <tr>\n",
       "      <th>25%</th>\n",
       "      <td>0.000000</td>\n",
       "      <td>0.000000</td>\n",
       "      <td>0.000000</td>\n",
       "      <td>0.000000</td>\n",
       "      <td>0.000000</td>\n",
       "      <td>0.000000</td>\n",
       "      <td>0.000000</td>\n",
       "    </tr>\n",
       "    <tr>\n",
       "      <th>50%</th>\n",
       "      <td>0.000000</td>\n",
       "      <td>0.000000</td>\n",
       "      <td>0.000000</td>\n",
       "      <td>0.000000</td>\n",
       "      <td>0.000000</td>\n",
       "      <td>0.000000</td>\n",
       "      <td>0.000000</td>\n",
       "    </tr>\n",
       "    <tr>\n",
       "      <th>75%</th>\n",
       "      <td>0.000000</td>\n",
       "      <td>0.000000</td>\n",
       "      <td>0.000000</td>\n",
       "      <td>0.000000</td>\n",
       "      <td>0.000000</td>\n",
       "      <td>0.000000</td>\n",
       "      <td>2.000000</td>\n",
       "    </tr>\n",
       "    <tr>\n",
       "      <th>max</th>\n",
       "      <td>38.000000</td>\n",
       "      <td>84.000000</td>\n",
       "      <td>8.000000</td>\n",
       "      <td>18.000000</td>\n",
       "      <td>7.000000</td>\n",
       "      <td>8.000000</td>\n",
       "      <td>94.000000</td>\n",
       "    </tr>\n",
       "  </tbody>\n",
       "</table>\n",
       "</div>"
      ],
      "text/plain": [
       "       algo_count  crypto_count  apprentissage_count  classifi_count  \\\n",
       "count  237.000000    237.000000           237.000000      237.000000   \n",
       "mean     1.122363      0.540084             0.126582        0.658228   \n",
       "std      3.966732      5.654932             0.823908        2.278600   \n",
       "min      0.000000      0.000000             0.000000        0.000000   \n",
       "25%      0.000000      0.000000             0.000000        0.000000   \n",
       "50%      0.000000      0.000000             0.000000        0.000000   \n",
       "75%      0.000000      0.000000             0.000000        0.000000   \n",
       "max     38.000000     84.000000             8.000000       18.000000   \n",
       "\n",
       "       traitement_auto_count  analyse_donnees_count       score  \n",
       "count             237.000000             237.000000  237.000000  \n",
       "mean                0.274262               0.185654    2.907173  \n",
       "std                 1.035745               0.817787    8.073276  \n",
       "min                 0.000000               0.000000    0.000000  \n",
       "25%                 0.000000               0.000000    0.000000  \n",
       "50%                 0.000000               0.000000    0.000000  \n",
       "75%                 0.000000               0.000000    2.000000  \n",
       "max                 7.000000               8.000000   94.000000  "
      ]
     },
     "execution_count": 45,
     "metadata": {},
     "output_type": "execute_result"
    }
   ],
   "source": [
    "mask_interesting_col = ['link', 'link_id', 'link_title', 'type_affichTexte'] + col_incluants + ['score']\n",
    "legifrance_links[mask_interesting_col].describe()"
   ]
  },
  {
   "cell_type": "code",
   "execution_count": 46,
   "metadata": {
    "collapsed": false,
    "scrolled": false
   },
   "outputs": [
    {
     "data": {
      "text/html": [
       "<div>\n",
       "<table border=\"1\" class=\"dataframe\">\n",
       "  <thead>\n",
       "    <tr style=\"text-align: right;\">\n",
       "      <th></th>\n",
       "      <th>link</th>\n",
       "      <th>link_id</th>\n",
       "      <th>link_title</th>\n",
       "      <th>type_affichTexte</th>\n",
       "      <th>algo_count</th>\n",
       "      <th>crypto_count</th>\n",
       "      <th>apprentissage_count</th>\n",
       "      <th>classifi_count</th>\n",
       "      <th>traitement_auto_count</th>\n",
       "      <th>analyse_donnees_count</th>\n",
       "      <th>score</th>\n",
       "    </tr>\n",
       "  </thead>\n",
       "  <tbody>\n",
       "    <tr>\n",
       "      <th>128</th>\n",
       "      <td>https://www.legifrance.gouv.fr/affichTexte.do?cidTexte=JORFTEXT000000646995</td>\n",
       "      <td>51cba9c4c5243bf0</td>\n",
       "      <td>Décret n°2007-663 du 2 mai 2007 pris pour l'application des articles 30, 31 ...</td>\n",
       "      <td>Décret</td>\n",
       "      <td>10</td>\n",
       "      <td>84</td>\n",
       "      <td>0</td>\n",
       "      <td>0</td>\n",
       "      <td>0</td>\n",
       "      <td>0</td>\n",
       "      <td>94</td>\n",
       "    </tr>\n",
       "    <tr>\n",
       "      <th>141</th>\n",
       "      <td>https://www.legifrance.gouv.fr/affichTexte.do?cidTexte=JORFTEXT000024573078&amp;...</td>\n",
       "      <td>59872c2f9bf25cb7</td>\n",
       "      <td>Arrêté du 12 juillet 2011 fixant le programme de l'enseignement de spécialit...</td>\n",
       "      <td>Arrêté</td>\n",
       "      <td>38</td>\n",
       "      <td>0</td>\n",
       "      <td>2</td>\n",
       "      <td>0</td>\n",
       "      <td>0</td>\n",
       "      <td>0</td>\n",
       "      <td>40</td>\n",
       "    </tr>\n",
       "    <tr>\n",
       "      <th>140</th>\n",
       "      <td>https://www.legifrance.gouv.fr/affichTexteArticle.do;jsessionid=1C2BBD119E67...</td>\n",
       "      <td>a8323115bd5ca03b</td>\n",
       "      <td>aucun_titre</td>\n",
       "      <td>Arrêté</td>\n",
       "      <td>28</td>\n",
       "      <td>0</td>\n",
       "      <td>0</td>\n",
       "      <td>4</td>\n",
       "      <td>0</td>\n",
       "      <td>0</td>\n",
       "      <td>32</td>\n",
       "    </tr>\n",
       "    <tr>\n",
       "      <th>142</th>\n",
       "      <td>https://www.legifrance.gouv.fr/affichTexte.do?cidTexte=JORFTEXT000000219384</td>\n",
       "      <td>ded0b832c517dab8</td>\n",
       "      <td>Arrêté du 8 août 2000 modifiant l'arrêté du 3 juillet 1995 définissant les o...</td>\n",
       "      <td>Arrêté</td>\n",
       "      <td>24</td>\n",
       "      <td>0</td>\n",
       "      <td>0</td>\n",
       "      <td>0</td>\n",
       "      <td>0</td>\n",
       "      <td>1</td>\n",
       "      <td>25</td>\n",
       "    </tr>\n",
       "    <tr>\n",
       "      <th>216</th>\n",
       "      <td>https://www.legifrance.gouv.fr/affichTexte.do?cidTexte=JORFTEXT000018194127&amp;...</td>\n",
       "      <td>68af77850be1376b</td>\n",
       "      <td>Arrêté du 22 février 2008 relatif au recueil et au traitement des données d'...</td>\n",
       "      <td>Arrêté</td>\n",
       "      <td>2</td>\n",
       "      <td>0</td>\n",
       "      <td>0</td>\n",
       "      <td>18</td>\n",
       "      <td>0</td>\n",
       "      <td>5</td>\n",
       "      <td>25</td>\n",
       "    </tr>\n",
       "  </tbody>\n",
       "</table>\n",
       "</div>"
      ],
      "text/plain": [
       "                                                                                link  \\\n",
       "128      https://www.legifrance.gouv.fr/affichTexte.do?cidTexte=JORFTEXT000000646995   \n",
       "141  https://www.legifrance.gouv.fr/affichTexte.do?cidTexte=JORFTEXT000024573078&...   \n",
       "140  https://www.legifrance.gouv.fr/affichTexteArticle.do;jsessionid=1C2BBD119E67...   \n",
       "142      https://www.legifrance.gouv.fr/affichTexte.do?cidTexte=JORFTEXT000000219384   \n",
       "216  https://www.legifrance.gouv.fr/affichTexte.do?cidTexte=JORFTEXT000018194127&...   \n",
       "\n",
       "              link_id  \\\n",
       "128  51cba9c4c5243bf0   \n",
       "141  59872c2f9bf25cb7   \n",
       "140  a8323115bd5ca03b   \n",
       "142  ded0b832c517dab8   \n",
       "216  68af77850be1376b   \n",
       "\n",
       "                                                                          link_title  \\\n",
       "128  Décret n°2007-663 du 2 mai 2007 pris pour l'application des articles 30, 31 ...   \n",
       "141  Arrêté du 12 juillet 2011 fixant le programme de l'enseignement de spécialit...   \n",
       "140                                                                      aucun_titre   \n",
       "142  Arrêté du 8 août 2000 modifiant l'arrêté du 3 juillet 1995 définissant les o...   \n",
       "216  Arrêté du 22 février 2008 relatif au recueil et au traitement des données d'...   \n",
       "\n",
       "    type_affichTexte  algo_count  crypto_count  apprentissage_count  \\\n",
       "128           Décret          10            84                    0   \n",
       "141           Arrêté          38             0                    2   \n",
       "140           Arrêté          28             0                    0   \n",
       "142           Arrêté          24             0                    0   \n",
       "216           Arrêté           2             0                    0   \n",
       "\n",
       "     classifi_count  traitement_auto_count  analyse_donnees_count  score  \n",
       "128               0                      0                      0     94  \n",
       "141               0                      0                      0     40  \n",
       "140               4                      0                      0     32  \n",
       "142               0                      0                      1     25  \n",
       "216              18                      0                      5     25  "
      ]
     },
     "execution_count": 46,
     "metadata": {},
     "output_type": "execute_result"
    }
   ],
   "source": [
    "legifrance_links.sort_values('score', ascending=False, inplace=True)\n",
    "legifrance_links[mask_interesting_col].head(5)"
   ]
  },
  {
   "cell_type": "code",
   "execution_count": 47,
   "metadata": {
    "collapsed": false
   },
   "outputs": [],
   "source": [
    "mask_no_enseign = (legifrance_links.enseignement_less < 2) & (legifrance_links.concours_less == 0)\n",
    "mask_no_crypto = (legifrance_links.crypto_count == 0)"
   ]
  },
  {
   "cell_type": "code",
   "execution_count": 48,
   "metadata": {
    "collapsed": false
   },
   "outputs": [
    {
     "data": {
      "text/plain": [
       "<matplotlib.axes._subplots.AxesSubplot at 0x11730fa58>"
      ]
     },
     "execution_count": 48,
     "metadata": {},
     "output_type": "execute_result"
    },
    {
     "data": {
      "image/png": "[encoded data removed]",
      "text/plain": [
       "<matplotlib.figure.Figure at 0x11766d860>"
      ]
     },
     "metadata": {},
     "output_type": "display_data"
    }
   ],
   "source": [
    "legifrance_links.loc[mask_no_crypto & mask_no_enseign, mask_interesting_col].score.hist(bins=5)"
   ]
  },
  {
   "cell_type": "code",
   "execution_count": 49,
   "metadata": {
    "collapsed": true
   },
   "outputs": [],
   "source": [
    "pd.options.display.max_colwidth = 80"
   ]
  },
  {
   "cell_type": "code",
   "execution_count": 58,
   "metadata": {
    "collapsed": false
   },
   "outputs": [
    {
     "data": {
      "text/html": [
       "<div>\n",
       "<table border=\"1\" class=\"dataframe\">\n",
       "  <thead>\n",
       "    <tr style=\"text-align: right;\">\n",
       "      <th></th>\n",
       "      <th>link</th>\n",
       "      <th>link_id</th>\n",
       "      <th>link_title</th>\n",
       "      <th>type_affichTexte</th>\n",
       "      <th>algo_count</th>\n",
       "      <th>crypto_count</th>\n",
       "      <th>apprentissage_count</th>\n",
       "      <th>classifi_count</th>\n",
       "      <th>traitement_auto_count</th>\n",
       "      <th>analyse_donnees_count</th>\n",
       "      <th>score</th>\n",
       "    </tr>\n",
       "  </thead>\n",
       "  <tbody>\n",
       "    <tr>\n",
       "      <th>209</th>\n",
       "      <td>https://www.legifrance.gouv.fr/affichTexte.do?cidTexte=JORFTEXT000031426201</td>\n",
       "      <td>9c1644353400b34b</td>\n",
       "      <td>Délibération n° 2015-162 du 4 juin 2015 portant avis sur un projet de décret...</td>\n",
       "      <td>Délibération</td>\n",
       "      <td>0</td>\n",
       "      <td>0</td>\n",
       "      <td>0</td>\n",
       "      <td>0</td>\n",
       "      <td>1</td>\n",
       "      <td>8</td>\n",
       "      <td>9</td>\n",
       "    </tr>\n",
       "    <tr>\n",
       "      <th>191</th>\n",
       "      <td>https://www.legifrance.gouv.fr/affichTexte.do?cidTexte=JORFTEXT000028558491</td>\n",
       "      <td>19f0dfba25d9fd61</td>\n",
       "      <td>Délibération n°  2013-221 du 18 juillet 2013 portant avis sur un projet de d...</td>\n",
       "      <td>Délibération</td>\n",
       "      <td>2</td>\n",
       "      <td>0</td>\n",
       "      <td>0</td>\n",
       "      <td>0</td>\n",
       "      <td>2</td>\n",
       "      <td>6</td>\n",
       "      <td>10</td>\n",
       "    </tr>\n",
       "  </tbody>\n",
       "</table>\n",
       "</div>"
      ],
      "text/plain": [
       "                                                                            link  \\\n",
       "209  https://www.legifrance.gouv.fr/affichTexte.do?cidTexte=JORFTEXT000031426201   \n",
       "191  https://www.legifrance.gouv.fr/affichTexte.do?cidTexte=JORFTEXT000028558491   \n",
       "\n",
       "              link_id  \\\n",
       "209  9c1644353400b34b   \n",
       "191  19f0dfba25d9fd61   \n",
       "\n",
       "                                                                          link_title  \\\n",
       "209  Délibération n° 2015-162 du 4 juin 2015 portant avis sur un projet de décret...   \n",
       "191  Délibération n°  2013-221 du 18 juillet 2013 portant avis sur un projet de d...   \n",
       "\n",
       "    type_affichTexte  algo_count  crypto_count  apprentissage_count  \\\n",
       "209     Délibération           0             0                    0   \n",
       "191     Délibération           2             0                    0   \n",
       "\n",
       "     classifi_count  traitement_auto_count  analyse_donnees_count  score  \n",
       "209               0                      1                      8      9  \n",
       "191               0                      2                      6     10  "
      ]
     },
     "execution_count": 58,
     "metadata": {},
     "output_type": "execute_result"
    }
   ],
   "source": [
    "legifrance_links.loc[mask_no_crypto & mask_no_enseign, mask_interesting_col].sort_values('analyse_donnees_count', ascending=False).head(2)"
   ]
  },
  {
   "cell_type": "code",
   "execution_count": 59,
   "metadata": {
    "collapsed": false
   },
   "outputs": [
    {
     "data": {
      "text/html": [
       "<div>\n",
       "<table border=\"1\" class=\"dataframe\">\n",
       "  <thead>\n",
       "    <tr style=\"text-align: right;\">\n",
       "      <th></th>\n",
       "      <th>link</th>\n",
       "      <th>link_id</th>\n",
       "      <th>link_title</th>\n",
       "      <th>type_affichTexte</th>\n",
       "      <th>algo_count</th>\n",
       "      <th>crypto_count</th>\n",
       "      <th>apprentissage_count</th>\n",
       "      <th>classifi_count</th>\n",
       "      <th>traitement_auto_count</th>\n",
       "      <th>analyse_donnees_count</th>\n",
       "      <th>score</th>\n",
       "    </tr>\n",
       "  </thead>\n",
       "  <tbody>\n",
       "    <tr>\n",
       "      <th>13</th>\n",
       "      <td>https://www.legifrance.gouv.fr/affichTexte.do?cidTexte=JORFTEXT000033047753&amp;...</td>\n",
       "      <td>a4cd4a654e5bd5ff</td>\n",
       "      <td>Délibération n° 2016-218 du 21 juillet 2016 portant avis sur un projet d'arr...</td>\n",
       "      <td>Délibération</td>\n",
       "      <td>2</td>\n",
       "      <td>0</td>\n",
       "      <td>0</td>\n",
       "      <td>0</td>\n",
       "      <td>7</td>\n",
       "      <td>1</td>\n",
       "      <td>10</td>\n",
       "    </tr>\n",
       "    <tr>\n",
       "      <th>66</th>\n",
       "      <td>https://www.legifrance.gouv.fr/affichTexte.do?cidTexte=JORFTEXT000000445223</td>\n",
       "      <td>3e2b9a57b7b9a46c</td>\n",
       "      <td>Avis relatif à l'homologation et à l'annulation de normes</td>\n",
       "      <td>Avis</td>\n",
       "      <td>0</td>\n",
       "      <td>0</td>\n",
       "      <td>0</td>\n",
       "      <td>10</td>\n",
       "      <td>0</td>\n",
       "      <td>0</td>\n",
       "      <td>10</td>\n",
       "    </tr>\n",
       "  </tbody>\n",
       "</table>\n",
       "</div>"
      ],
      "text/plain": [
       "                                                                               link  \\\n",
       "13  https://www.legifrance.gouv.fr/affichTexte.do?cidTexte=JORFTEXT000033047753&...   \n",
       "66      https://www.legifrance.gouv.fr/affichTexte.do?cidTexte=JORFTEXT000000445223   \n",
       "\n",
       "             link_id  \\\n",
       "13  a4cd4a654e5bd5ff   \n",
       "66  3e2b9a57b7b9a46c   \n",
       "\n",
       "                                                                         link_title  \\\n",
       "13  Délibération n° 2016-218 du 21 juillet 2016 portant avis sur un projet d'arr...   \n",
       "66                        Avis relatif à l'homologation et à l'annulation de normes   \n",
       "\n",
       "   type_affichTexte  algo_count  crypto_count  apprentissage_count  \\\n",
       "13     Délibération           2             0                    0   \n",
       "66             Avis           0             0                    0   \n",
       "\n",
       "    classifi_count  traitement_auto_count  analyse_donnees_count  score  \n",
       "13               0                      7                      1     10  \n",
       "66              10                      0                      0     10  "
      ]
     },
     "execution_count": 59,
     "metadata": {},
     "output_type": "execute_result"
    }
   ],
   "source": [
    "legifrance_links.loc[mask_no_crypto & mask_no_enseign, mask_interesting_col].head(2)"
   ]
  },
  {
   "cell_type": "code",
   "execution_count": 52,
   "metadata": {
    "collapsed": false
   },
   "outputs": [
    {
     "name": "stdout",
     "output_type": "stream",
     "text": [
      "Lien: https://www.legifrance.gouv.fr/affichTexte.do?cidTexte=JORFTEXT000033047753&categorieLien=id\n"
     ]
    },
    {
     "data": {
      "image/png": "[encoded data removed]",
      "text/plain": [
       "<matplotlib.figure.Figure at 0x11731d438>"
      ]
     },
     "metadata": {},
     "output_type": "display_data"
    }
   ],
   "source": [
    "plotCountDf(legifrance_links, 'a4cd4a654e5bd5ff')"
   ]
  },
  {
   "cell_type": "code",
   "execution_count": 53,
   "metadata": {
    "collapsed": false
   },
   "outputs": [
    {
     "name": "stdout",
     "output_type": "stream",
     "text": [
      "Lien: https://www.legifrance.gouv.fr/affichTexte.do?cidTexte=JORFTEXT000000562959&categorieLien=id\n"
     ]
    },
    {
     "data": {
      "image/png": "[encoded data removed]",
      "text/plain": [
       "<matplotlib.figure.Figure at 0x1172f8550>"
      ]
     },
     "metadata": {},
     "output_type": "display_data"
    }
   ],
   "source": [
    "plotCountDf(legifrance_links, 'ac3d27bbfb90ca7b')"
   ]
  },
  {
   "cell_type": "code",
   "execution_count": 56,
   "metadata": {
    "collapsed": false
   },
   "outputs": [],
   "source": [
    "legifrance_links[mask_interesting_col].to_csv('legifrance_links_counted.csv', sep=';')"
   ]
  },
  {
   "cell_type": "code",
   "execution_count": null,
   "metadata": {
    "collapsed": true
   },
   "outputs": [],
   "source": []
  }
 ],
 "metadata": {
  "kernelspec": {
   "display_name": "Python 3",
   "language": "python",
   "name": "python3"
  },
  "language_info": {
   "codemirror_mode": {
    "name": "ipython",
    "version": 3
   },
   "file_extension": ".py",
   "mimetype": "text/x-python",
   "name": "python",
   "nbconvert_exporter": "python",
   "pygments_lexer": "ipython3",
   "version": "3.6.0"
  }
 },
 "nbformat": 4,
 "nbformat_minor": 2
}
